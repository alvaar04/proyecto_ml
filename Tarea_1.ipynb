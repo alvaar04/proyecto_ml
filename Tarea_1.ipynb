{
 "cells": [
  {
   "cell_type": "markdown",
   "id": "232fd41e-7920-4849-8b21-62034009004a",
   "metadata": {
    "id": "232fd41e-7920-4849-8b21-62034009004a"
   },
   "source": [
    "# TAREA 1 : Grupo 8 (**Javier Muñoz de Torres y Alvaro Morán Lorente**)<br>\n"
   ]
  },
  {
   "cell_type": "markdown",
   "id": "ab118472-b6c3-4372-9142-aa57bd6c1396",
   "metadata": {
    "id": "ab118472-b6c3-4372-9142-aa57bd6c1396"
   },
   "source": [
    "**Datos**: Trabajaremos con un conjunto de datos del ambito de medicina/salud, concretamente en relación a problemas al corazón. Los datos vienen de la unión de otros 4 datasets procedentes de Cleveland; Hungary; Switzerland y VA Long Beach, y han sido tomados de pacientes de hospitales.\n",
    "\n",
    "**Base de datos**: [Heart Disease](https://archive.ics.uci.edu/dataset/45/heart+disease)<br>\n",
    "En el conjunto de datos el target `num` es categórica, por lo que nos centraremos en una tarea de clasificación. Tiene un rango (0,4), es decir, 5 posibles niveles, que indican de menor a mayor la presencia de un problema en el corazon. El objetivo de este análisis es clasificar los pacientes, dados los atributos que mostraremos a continuación, según \"la presencia de problemas\" de corazon, lo que se puede interpretar con \"como de probable es que tengas un problema de corazón\".\n",
    "\n",
    "**Interpretación del target:** <br>\n",
    "Para darle un significado a ese rango (0,4), diremos que:<br>\n",
    "`0` &rarr; Poco probable<br>\n",
    "`1` &rarr; Algo probable<br>\n",
    "`2` &rarr; Probable<br>\n",
    "`3` &rarr; Bastante probable<br>\n",
    "`4` &rarr; Muy probable<br>\n",
    "Para nuestro análisis binarizaremos la variable objetivo (**`target`**). Asignaremos como clase positiva `1` aquellos diagnósticos en los que el estrechamiento de arterias es superior al 50% (problemas graves de corazón) y le asignaremos la clase negativa `0` a aquellos casos en los que el estrechamiento de arterias sea inferior al 50% (ausencia de problemas de corazón).\n",
    "A continuación, analizaremos los atributos (features):"
   ]
  },
  {
   "cell_type": "markdown",
   "id": "26113917-1e98-4127-8172-523811e4cba0",
   "metadata": {
    "id": "26113917-1e98-4127-8172-523811e4cba0"
   },
   "source": [
    "## Sección I. Análisis descriptivo y exploratorio de la base de datos. Preprocesamiento"
   ]
  },
  {
   "cell_type": "markdown",
   "id": "46a64785-3e0d-404c-b212-2432dcc7ec4d",
   "metadata": {
    "id": "46a64785-3e0d-404c-b212-2432dcc7ec4d"
   },
   "source": [
    "### *Primer vistazo a los datos*"
   ]
  },
  {
   "cell_type": "code",
   "execution_count": 1,
   "id": "2cbb480e",
   "metadata": {
    "id": "2cbb480e"
   },
   "outputs": [],
   "source": [
    "import warnings\n",
    "import numpy as np\n",
    "\n",
    "warnings.filterwarnings('ignore')\n"
   ]
  },
  {
   "cell_type": "code",
   "execution_count": 2,
   "id": "72e144db-2648-4c3d-ab6f-7fedbf10a0f1",
   "metadata": {
    "id": "72e144db-2648-4c3d-ab6f-7fedbf10a0f1"
   },
   "outputs": [],
   "source": [
    "import pandas as pd\n",
    "from ucimlrepo import fetch_ucirepo\n",
    "import seaborn as sns\n",
    "import matplotlib.pyplot as plt\n",
    "\n",
    "# Dataset\n",
    "heart_disease = fetch_ucirepo(id=45)\n",
    "# Datos (dataframes de pandas)\n",
    "X = heart_disease.data.features # Features\n",
    "Y = heart_disease.data.targets # Target\n",
    "# Ajustamos el tipo de las variables categóricas\n",
    "categorical_features = ['sex','fbs','exang','cp', 'restecg', 'slope', 'thal']\n",
    "X[categorical_features] = X[categorical_features].astype('category')\n"
   ]
  },
  {
   "cell_type": "markdown",
   "id": "0aeb8249-e63c-4944-a278-248de05b6b98",
   "metadata": {
    "id": "0aeb8249-e63c-4944-a278-248de05b6b98"
   },
   "source": [
    "Lo primero que hemos hecho ha sido guardar en una variable nuestro conjunto de datos. A continuación, hemos separado en dos DataFrames distintos tanto el target `Y` como las características `X` del conjunto de datos.\n"
   ]
  },
  {
   "cell_type": "code",
   "execution_count": 3,
   "id": "a9ec8f10-f81d-451c-b2cf-912a60121493",
   "metadata": {
    "colab": {
     "base_uri": "https://localhost:8080/",
     "height": 488
    },
    "id": "a9ec8f10-f81d-451c-b2cf-912a60121493",
    "outputId": "29927077-4fe7-4f46-e547-42f45c98ea3d"
   },
   "outputs": [
    {
     "data": {
      "text/html": [
       "<div>\n",
       "<style scoped>\n",
       "    .dataframe tbody tr th:only-of-type {\n",
       "        vertical-align: middle;\n",
       "    }\n",
       "\n",
       "    .dataframe tbody tr th {\n",
       "        vertical-align: top;\n",
       "    }\n",
       "\n",
       "    .dataframe thead th {\n",
       "        text-align: right;\n",
       "    }\n",
       "</style>\n",
       "<table border=\"1\" class=\"dataframe\">\n",
       "  <thead>\n",
       "    <tr style=\"text-align: right;\">\n",
       "      <th></th>\n",
       "      <th>name</th>\n",
       "      <th>role</th>\n",
       "      <th>type</th>\n",
       "      <th>demographic</th>\n",
       "      <th>description</th>\n",
       "      <th>units</th>\n",
       "      <th>missing_values</th>\n",
       "    </tr>\n",
       "  </thead>\n",
       "  <tbody>\n",
       "    <tr>\n",
       "      <th>0</th>\n",
       "      <td>age</td>\n",
       "      <td>Feature</td>\n",
       "      <td>Integer</td>\n",
       "      <td>Age</td>\n",
       "      <td>None</td>\n",
       "      <td>years</td>\n",
       "      <td>no</td>\n",
       "    </tr>\n",
       "    <tr>\n",
       "      <th>1</th>\n",
       "      <td>sex</td>\n",
       "      <td>Feature</td>\n",
       "      <td>Categorical</td>\n",
       "      <td>Sex</td>\n",
       "      <td>None</td>\n",
       "      <td>None</td>\n",
       "      <td>no</td>\n",
       "    </tr>\n",
       "    <tr>\n",
       "      <th>2</th>\n",
       "      <td>cp</td>\n",
       "      <td>Feature</td>\n",
       "      <td>Categorical</td>\n",
       "      <td>None</td>\n",
       "      <td>None</td>\n",
       "      <td>None</td>\n",
       "      <td>no</td>\n",
       "    </tr>\n",
       "    <tr>\n",
       "      <th>3</th>\n",
       "      <td>trestbps</td>\n",
       "      <td>Feature</td>\n",
       "      <td>Integer</td>\n",
       "      <td>None</td>\n",
       "      <td>resting blood pressure (on admission to the ho...</td>\n",
       "      <td>mm Hg</td>\n",
       "      <td>no</td>\n",
       "    </tr>\n",
       "    <tr>\n",
       "      <th>4</th>\n",
       "      <td>chol</td>\n",
       "      <td>Feature</td>\n",
       "      <td>Integer</td>\n",
       "      <td>None</td>\n",
       "      <td>serum cholestoral</td>\n",
       "      <td>mg/dl</td>\n",
       "      <td>no</td>\n",
       "    </tr>\n",
       "    <tr>\n",
       "      <th>5</th>\n",
       "      <td>fbs</td>\n",
       "      <td>Feature</td>\n",
       "      <td>Categorical</td>\n",
       "      <td>None</td>\n",
       "      <td>fasting blood sugar &gt; 120 mg/dl</td>\n",
       "      <td>None</td>\n",
       "      <td>no</td>\n",
       "    </tr>\n",
       "    <tr>\n",
       "      <th>6</th>\n",
       "      <td>restecg</td>\n",
       "      <td>Feature</td>\n",
       "      <td>Categorical</td>\n",
       "      <td>None</td>\n",
       "      <td>None</td>\n",
       "      <td>None</td>\n",
       "      <td>no</td>\n",
       "    </tr>\n",
       "    <tr>\n",
       "      <th>7</th>\n",
       "      <td>thalach</td>\n",
       "      <td>Feature</td>\n",
       "      <td>Integer</td>\n",
       "      <td>None</td>\n",
       "      <td>maximum heart rate achieved</td>\n",
       "      <td>None</td>\n",
       "      <td>no</td>\n",
       "    </tr>\n",
       "    <tr>\n",
       "      <th>8</th>\n",
       "      <td>exang</td>\n",
       "      <td>Feature</td>\n",
       "      <td>Categorical</td>\n",
       "      <td>None</td>\n",
       "      <td>exercise induced angina</td>\n",
       "      <td>None</td>\n",
       "      <td>no</td>\n",
       "    </tr>\n",
       "    <tr>\n",
       "      <th>9</th>\n",
       "      <td>oldpeak</td>\n",
       "      <td>Feature</td>\n",
       "      <td>Integer</td>\n",
       "      <td>None</td>\n",
       "      <td>ST depression induced by exercise relative to ...</td>\n",
       "      <td>None</td>\n",
       "      <td>no</td>\n",
       "    </tr>\n",
       "    <tr>\n",
       "      <th>10</th>\n",
       "      <td>slope</td>\n",
       "      <td>Feature</td>\n",
       "      <td>Categorical</td>\n",
       "      <td>None</td>\n",
       "      <td>None</td>\n",
       "      <td>None</td>\n",
       "      <td>no</td>\n",
       "    </tr>\n",
       "    <tr>\n",
       "      <th>11</th>\n",
       "      <td>ca</td>\n",
       "      <td>Feature</td>\n",
       "      <td>Integer</td>\n",
       "      <td>None</td>\n",
       "      <td>number of major vessels (0-3) colored by flour...</td>\n",
       "      <td>None</td>\n",
       "      <td>yes</td>\n",
       "    </tr>\n",
       "    <tr>\n",
       "      <th>12</th>\n",
       "      <td>thal</td>\n",
       "      <td>Feature</td>\n",
       "      <td>Categorical</td>\n",
       "      <td>None</td>\n",
       "      <td>None</td>\n",
       "      <td>None</td>\n",
       "      <td>yes</td>\n",
       "    </tr>\n",
       "    <tr>\n",
       "      <th>13</th>\n",
       "      <td>num</td>\n",
       "      <td>Target</td>\n",
       "      <td>Integer</td>\n",
       "      <td>None</td>\n",
       "      <td>diagnosis of heart disease</td>\n",
       "      <td>None</td>\n",
       "      <td>no</td>\n",
       "    </tr>\n",
       "  </tbody>\n",
       "</table>\n",
       "</div>"
      ],
      "text/plain": [
       "        name     role         type demographic  \\\n",
       "0        age  Feature      Integer         Age   \n",
       "1        sex  Feature  Categorical         Sex   \n",
       "2         cp  Feature  Categorical        None   \n",
       "3   trestbps  Feature      Integer        None   \n",
       "4       chol  Feature      Integer        None   \n",
       "5        fbs  Feature  Categorical        None   \n",
       "6    restecg  Feature  Categorical        None   \n",
       "7    thalach  Feature      Integer        None   \n",
       "8      exang  Feature  Categorical        None   \n",
       "9    oldpeak  Feature      Integer        None   \n",
       "10     slope  Feature  Categorical        None   \n",
       "11        ca  Feature      Integer        None   \n",
       "12      thal  Feature  Categorical        None   \n",
       "13       num   Target      Integer        None   \n",
       "\n",
       "                                          description  units missing_values  \n",
       "0                                                None  years             no  \n",
       "1                                                None   None             no  \n",
       "2                                                None   None             no  \n",
       "3   resting blood pressure (on admission to the ho...  mm Hg             no  \n",
       "4                                   serum cholestoral  mg/dl             no  \n",
       "5                     fasting blood sugar > 120 mg/dl   None             no  \n",
       "6                                                None   None             no  \n",
       "7                         maximum heart rate achieved   None             no  \n",
       "8                             exercise induced angina   None             no  \n",
       "9   ST depression induced by exercise relative to ...   None             no  \n",
       "10                                               None   None             no  \n",
       "11  number of major vessels (0-3) colored by flour...   None            yes  \n",
       "12                                               None   None            yes  \n",
       "13                         diagnosis of heart disease   None             no  "
      ]
     },
     "execution_count": 3,
     "metadata": {},
     "output_type": "execute_result"
    }
   ],
   "source": [
    "heart_disease.variables"
   ]
  },
  {
   "cell_type": "markdown",
   "id": "117e8af9-3c98-40e3-b02e-62e57cd979ee",
   "metadata": {
    "id": "117e8af9-3c98-40e3-b02e-62e57cd979ee"
   },
   "source": [
    "Podemos observar que tenemos una mezcla de variables categoricas y numéricas, por lo que deberemos tenerlo en cuenta ya que habra que hacer alguna modificación con dichas variables categóricas en función de que tipo de modelo usemos (probablemente las utilizaremos en el formato one hot encoding).  \n",
    "De entre nuestras características vemos que `ca` y `thal` contienen valores faltantes, por lo que tendremos que tratarlos posteriormente.\n",
    "Como comentamos anteriormente vemos que el target presenta 5 categorias, pero nosotros los binarizaremos distinguiendo entre \"presencia de problemas de corazón\" (categorias: `1`, `2`, `3`, `4`) y \"ausencia de problemas de corazón\" (categoría: `0`).  "
   ]
  },
  {
   "cell_type": "code",
   "execution_count": 4,
   "id": "6b6b081a-df3d-4b91-8c7e-883dee0df886",
   "metadata": {
    "id": "6b6b081a-df3d-4b91-8c7e-883dee0df886"
   },
   "outputs": [],
   "source": [
    "from sklearn.model_selection import train_test_split\n",
    "# Diseño y Test\n",
    "X_diseño, X_test, Y_diseño, Y_test = train_test_split(X, Y, test_size=0.3, random_state=123) # 70% Diseño , 30% Test\n",
    "\n",
    "# EN GRIDSEARCH SE LE METE EL CONJUNTO DE DISEÑO, NO TRAIN, EL SOLO TE HACE LA DIVISION #\n",
    "\n",
    "# Train y Validation\n",
    "X_Train, X_Val, Y_Train, Y_Val = train_test_split(X_diseño, Y_diseño, test_size=0.3, random_state=123) # 70% Train, 30% Validation#\n"
   ]
  },
  {
   "cell_type": "markdown",
   "id": "9a4b56bb-4fb0-425f-8d2a-f344b7c686e4",
   "metadata": {
    "id": "9a4b56bb-4fb0-425f-8d2a-f344b7c686e4"
   },
   "source": [
    "Separamos nuestro conjunto de datos en 3 subconjuntos (`train`, `validation` y `test`). Train y validation pertenecen al conjunto de **diseño**, el cual contiene un 70% de la muestra, y **test** contiene un 30%.  "
   ]
  },
  {
   "cell_type": "code",
   "execution_count": 5,
   "id": "e6eff8d5-8e19-4141-9d59-5d3d5c521e0f",
   "metadata": {
    "colab": {
     "base_uri": "https://localhost:8080/",
     "height": 300
    },
    "id": "e6eff8d5-8e19-4141-9d59-5d3d5c521e0f",
    "outputId": "40871fba-0255-4deb-a21f-0163b4dfaa4a"
   },
   "outputs": [
    {
     "data": {
      "text/html": [
       "<div>\n",
       "<style scoped>\n",
       "    .dataframe tbody tr th:only-of-type {\n",
       "        vertical-align: middle;\n",
       "    }\n",
       "\n",
       "    .dataframe tbody tr th {\n",
       "        vertical-align: top;\n",
       "    }\n",
       "\n",
       "    .dataframe thead th {\n",
       "        text-align: right;\n",
       "    }\n",
       "</style>\n",
       "<table border=\"1\" class=\"dataframe\">\n",
       "  <thead>\n",
       "    <tr style=\"text-align: right;\">\n",
       "      <th></th>\n",
       "      <th>age</th>\n",
       "      <th>trestbps</th>\n",
       "      <th>chol</th>\n",
       "      <th>thalach</th>\n",
       "      <th>oldpeak</th>\n",
       "      <th>ca</th>\n",
       "    </tr>\n",
       "  </thead>\n",
       "  <tbody>\n",
       "    <tr>\n",
       "      <th>count</th>\n",
       "      <td>148.000000</td>\n",
       "      <td>148.000000</td>\n",
       "      <td>148.000000</td>\n",
       "      <td>148.000000</td>\n",
       "      <td>148.000000</td>\n",
       "      <td>146.000000</td>\n",
       "    </tr>\n",
       "    <tr>\n",
       "      <th>mean</th>\n",
       "      <td>54.668919</td>\n",
       "      <td>132.074324</td>\n",
       "      <td>245.858108</td>\n",
       "      <td>148.527027</td>\n",
       "      <td>1.154054</td>\n",
       "      <td>0.657534</td>\n",
       "    </tr>\n",
       "    <tr>\n",
       "      <th>std</th>\n",
       "      <td>8.938481</td>\n",
       "      <td>17.848985</td>\n",
       "      <td>53.731255</td>\n",
       "      <td>22.366291</td>\n",
       "      <td>1.228426</td>\n",
       "      <td>0.897801</td>\n",
       "    </tr>\n",
       "    <tr>\n",
       "      <th>min</th>\n",
       "      <td>29.000000</td>\n",
       "      <td>94.000000</td>\n",
       "      <td>131.000000</td>\n",
       "      <td>96.000000</td>\n",
       "      <td>0.000000</td>\n",
       "      <td>0.000000</td>\n",
       "    </tr>\n",
       "    <tr>\n",
       "      <th>25%</th>\n",
       "      <td>49.750000</td>\n",
       "      <td>120.000000</td>\n",
       "      <td>211.750000</td>\n",
       "      <td>135.000000</td>\n",
       "      <td>0.000000</td>\n",
       "      <td>0.000000</td>\n",
       "    </tr>\n",
       "    <tr>\n",
       "      <th>50%</th>\n",
       "      <td>55.000000</td>\n",
       "      <td>130.000000</td>\n",
       "      <td>242.500000</td>\n",
       "      <td>149.500000</td>\n",
       "      <td>0.900000</td>\n",
       "      <td>0.000000</td>\n",
       "    </tr>\n",
       "    <tr>\n",
       "      <th>75%</th>\n",
       "      <td>61.000000</td>\n",
       "      <td>140.000000</td>\n",
       "      <td>269.250000</td>\n",
       "      <td>165.250000</td>\n",
       "      <td>1.800000</td>\n",
       "      <td>1.000000</td>\n",
       "    </tr>\n",
       "    <tr>\n",
       "      <th>max</th>\n",
       "      <td>76.000000</td>\n",
       "      <td>192.000000</td>\n",
       "      <td>564.000000</td>\n",
       "      <td>202.000000</td>\n",
       "      <td>6.200000</td>\n",
       "      <td>3.000000</td>\n",
       "    </tr>\n",
       "  </tbody>\n",
       "</table>\n",
       "</div>"
      ],
      "text/plain": [
       "              age    trestbps        chol     thalach     oldpeak          ca\n",
       "count  148.000000  148.000000  148.000000  148.000000  148.000000  146.000000\n",
       "mean    54.668919  132.074324  245.858108  148.527027    1.154054    0.657534\n",
       "std      8.938481   17.848985   53.731255   22.366291    1.228426    0.897801\n",
       "min     29.000000   94.000000  131.000000   96.000000    0.000000    0.000000\n",
       "25%     49.750000  120.000000  211.750000  135.000000    0.000000    0.000000\n",
       "50%     55.000000  130.000000  242.500000  149.500000    0.900000    0.000000\n",
       "75%     61.000000  140.000000  269.250000  165.250000    1.800000    1.000000\n",
       "max     76.000000  192.000000  564.000000  202.000000    6.200000    3.000000"
      ]
     },
     "execution_count": 5,
     "metadata": {},
     "output_type": "execute_result"
    }
   ],
   "source": [
    "X_Train.describe()"
   ]
  },
  {
   "cell_type": "markdown",
   "id": "6dd12b9f-83f9-4d72-9f6f-728bcacabc56",
   "metadata": {
    "id": "6dd12b9f-83f9-4d72-9f6f-728bcacabc56"
   },
   "source": [
    "Las variables continuas tienen rangos distintos, de modo que habrá que normalizarlas para su posterior visualización y uso en ciertos modelos de machine learning."
   ]
  },
  {
   "cell_type": "code",
   "execution_count": 6,
   "id": "c54a59e4-77cd-4fdc-aa56-066f807e327a",
   "metadata": {
    "colab": {
     "base_uri": "https://localhost:8080/",
     "height": 450
    },
    "id": "c54a59e4-77cd-4fdc-aa56-066f807e327a",
    "outputId": "b6bb75ea-eef1-4507-d07d-667eb6219677"
   },
   "outputs": [
    {
     "data": {
      "image/png": "[encoded data removed]",
      "text/plain": [
       "<Figure size 640x480 with 1 Axes>"
      ]
     },
     "metadata": {},
     "output_type": "display_data"
    }
   ],
   "source": [
    "sns.countplot(x='num',data=Y_Train, palette=\"viridis\")\n",
    "plt.ylabel('Frecuencia')\n",
    "plt.xlabel('Categoría')\n",
    "plt.show()"
   ]
  },
  {
   "cell_type": "markdown",
   "id": "e3cce552-1f90-40dc-a65f-880f1f24caa8",
   "metadata": {
    "id": "e3cce552-1f90-40dc-a65f-880f1f24caa8"
   },
   "source": [
    "Al visualizar la distribución de las clases de nuestra variable objetivo vemos que las clases están desbalanceadas, siendo la clase `0` la más frecuente.  \n",
    "Procedemos a binarizar el target.  "
   ]
  },
  {
   "cell_type": "code",
   "execution_count": 7,
   "id": "2a53ee80",
   "metadata": {
    "colab": {
     "base_uri": "https://localhost:8080/",
     "height": 449
    },
    "id": "2a53ee80",
    "outputId": "3e621499-23fe-4e3d-ee4a-cfacb269f61e"
   },
   "outputs": [
    {
     "data": {
      "image/png": "[encoded data removed]",
      "text/plain": [
       "<Figure size 640x480 with 1 Axes>"
      ]
     },
     "metadata": {},
     "output_type": "display_data"
    }
   ],
   "source": [
    "# Pasamos el target a binario\n",
    "Y_Train[Y_Train >= 1] = 1\n",
    "Y_Val[Y_Val >= 1] = 1\n",
    "Y_test[Y_test >=1] = 1\n",
    "sns.countplot(x='num',data=Y_Train, palette=\"viridis\")\n",
    "plt.ylabel('Frecuencia')\n",
    "plt.xlabel('Clase')\n",
    "plt.show()"
   ]
  },
  {
   "cell_type": "markdown",
   "id": "da2c1c5c",
   "metadata": {
    "id": "da2c1c5c"
   },
   "source": [
    "Con las nuevas clases nos ha quedado una distribución mas balanceada, por lo que a la hora de usar figuras de mérito tenemos más libertad de elección. Sin embargo, en este modelo es más relevante predecir correctamente la clase en personas que tienen potenciales problemas de corazón para que las que no, por lo que nos centraremos en acertar los verdaderos positivos, y no tanto los verdaderos negativos."
   ]
  },
  {
   "cell_type": "markdown",
   "id": "ea02ed5f-7b68-4a4e-afd1-fa08e3d03c70",
   "metadata": {
    "id": "ea02ed5f-7b68-4a4e-afd1-fa08e3d03c70"
   },
   "source": [
    "### *Descripción de variables*\n"
   ]
  },
  {
   "cell_type": "markdown",
   "id": "b7d480c2",
   "metadata": {
    "id": "b7d480c2"
   },
   "source": [
    "\n",
    "#### Features\n",
    "\n",
    "`age`: Edad del paciente tratado <br>\n",
    "+ **Entera** [min = *29*, max = *76*]\n",
    "+ **Unidades** &rarr; Años\n",
    "\n",
    "`sex`: Sexo del paciente tratado <br>\n",
    "+ **Binaria** [**1** = *hombre*, **0** = *mujer*]\n",
    "+ **Unidades** &rarr; Sin unidades\n",
    "\n",
    "`cp`: Tipo de dolor en el pecho <br>\n",
    "+ **Categórica** [*Angina típica, angina atípica, dolor no anginoso, asintomático*]\n",
    "+ **Unidades** &rarr; Sin unidades\n",
    "\n",
    "`trestbps`: Presión arterial en reposo al llegar al hospital<br>\n",
    "+ **Continua** [min = *94*, max = *192*]\n",
    "+ **Unidades** &rarr; mm-Hg\n",
    "\n",
    "`chol`: Colesterol sérico<br>\n",
    "+ **Continua** [min = *131*, max = *564*]\n",
    "+ **Unidades** &rarr; mg/dl\n",
    "\n",
    "`fbs`: Glucemia (azucar en sangre) en ayunas<br>\n",
    "+ **Binaria** [**1** = *>120*, **0** = *<120*]\n",
    "+ **Unidades** &rarr; mg/dl\n",
    "\n",
    "`restecg`: Resultados electrocardiográficos en reposo<br>\n",
    "+ **Categórica** [**0** = normal,   **1** = con anomalía de la onda ST-T,   **2** = mostrando hipertrofia ventricular izquierda probable o definida según los criterios de Estes]\n",
    "+ **Unidades** &rarr; Sin unidades\n",
    "\n",
    "`thalach`: Frecuencia cardíaca máxima alcanzada<br>\n",
    "+ **Entera** [min = *96*, max = *202*]\n",
    "+ **Unidades** &rarr;  **?¿?¿?¿?¿?¿??¿??¿?**\n",
    "\n",
    "`exang`: Angina inducida por el ejercicio<br>\n",
    "+ **Binaria** [**1** = **Yes**, **0** = **No**]\n",
    "+ **Unidades** Sin unidades\n",
    "\n",
    "`oldpeak`: Depresión del segmento ST inducida por el ejercicio en relación con el reposo<br>\n",
    "+ **Entera** [min = **0** = min, max = **6.2**]\n",
    "+ **Unidades** ?¿?¿?¿¿?¿?¿?¿?¿??¿?\n",
    "\n",
    "`slope`: La pendiente del segmento ST en el pico del ejercicio <br>\n",
    "+ **Categórica** [*Pendiente ascendente , plana, pendiente descendente*]\n",
    "+ **Unidades** &rarr; Sin unidades\n",
    "\n",
    "`ca`: Número de vasos principales (0-3) coloreados por fluoroscopia <br>\n",
    "+ **Entera** [min = **0**, max = **3**]\n",
    "+ **Unidades** &rarr; Sin unidades\n",
    "\n",
    "`thal`: Prueba de tálamo o talio <br>\n",
    "+ **Categórica** [*Normal , efecto fijo, efecto reversble*]\n",
    "+ **Unidades** &rarr; Sin unidades"
   ]
  },
  {
   "cell_type": "markdown",
   "id": "0888f3dd-af23-45ca-beba-bcce91a995c5",
   "metadata": {
    "id": "0888f3dd-af23-45ca-beba-bcce91a995c5"
   },
   "source": [
    "#### Target<br>\n",
    "\n",
    "`num`: Diagnóstico de patología del corazón (estrechamiento/estenosis de las arterias coronarias)<br>\n",
    "+ **Binaria** [**1** = **Estrechamiento>50%: grave**, **0** = **Estrechamiento<50%: leve**]\n",
    "+ **Unidades** &rarr; Sin unidades"
   ]
  },
  {
   "cell_type": "markdown",
   "id": "4eec78a9-0e0a-436f-a57d-e0caf9b7dec4",
   "metadata": {
    "id": "4eec78a9-0e0a-436f-a57d-e0caf9b7dec4"
   },
   "source": [
    "### Estandarización de los datos"
   ]
  },
  {
   "cell_type": "markdown",
   "id": "1f9fe50a-d0ca-4000-bcc8-0f0721861ebb",
   "metadata": {
    "id": "1f9fe50a-d0ca-4000-bcc8-0f0721861ebb"
   },
   "source": [
    "Como hemos mencionado previamente, las variables continuas tienen distintas escalas, por lo que vamos a estandarizarlas para poder calcular distancias de forma correcta."
   ]
  },
  {
   "cell_type": "code",
   "execution_count": 8,
   "id": "539b87f7-0912-441b-be60-d38caab56d7e",
   "metadata": {
    "id": "539b87f7-0912-441b-be60-d38caab56d7e"
   },
   "outputs": [],
   "source": [
    "continuous_features = X_Train.select_dtypes(include=['float64', 'int64']).columns\n",
    "\n",
    "\n",
    "X_Train_scaled = X_Train.copy()\n",
    "X_Val_scaled = X_Val.copy()\n",
    "X_test_scaled = X_test.copy()\n",
    "\n",
    "from sklearn.preprocessing import StandardScaler\n",
    "\n",
    "scaler = StandardScaler()\n",
    "\n",
    "X_Train_scaled[continuous_features] = scaler.fit_transform(X_Train_scaled[continuous_features])\n",
    "\n",
    "X_Val_scaled[continuous_features] = scaler.transform(X_Val_scaled[continuous_features])\n",
    "\n",
    "X_test_scaled[continuous_features] = scaler.transform(X_test_scaled[continuous_features])"
   ]
  },
  {
   "cell_type": "markdown",
   "id": "42ad1daa",
   "metadata": {
    "id": "42ad1daa"
   },
   "source": [
    "### Missing Values\n"
   ]
  },
  {
   "cell_type": "markdown",
   "id": "6c05507e-c1a7-4fbd-b42b-6eabfcca2952",
   "metadata": {
    "id": "6c05507e-c1a7-4fbd-b42b-6eabfcca2952"
   },
   "source": [
    "A continuación vamos a analizar las variables `ca` y `thal`, las cuales sabemos que contiene valores faltantes gracias al proveedor de los datos. <br>\n",
    "\n",
    "Como `ca` acepta el valor **0** vamos a considerar como valores faltantes a los **NaN**, y al ser `thal` una variable categórica, no puede contener, por lo que vamos a usar el mismo criterio."
   ]
  },
  {
   "cell_type": "code",
   "execution_count": 9,
   "id": "59d310ec",
   "metadata": {
    "colab": {
     "base_uri": "https://localhost:8080/"
    },
    "id": "59d310ec",
    "outputId": "a3d334d6-5941-412e-8a84-ef5d84304082"
   },
   "outputs": [
    {
     "name": "stdout",
     "output_type": "stream",
     "text": [
      "Numero de NaN en ca : 4\n",
      "Numero de NaN en thal: 2\n",
      "Numero de NaN en ca en Train: 2\n",
      "Numero de NaN en thal en Train: 0\n"
     ]
    }
   ],
   "source": [
    "\n",
    "# Buscar Nulls (NaN)\n",
    "print(\"Numero de NaN en ca :\",X[\"ca\"].isnull().sum())\n",
    "print(\"Numero de NaN en thal:\",X[\"thal\"].isnull().sum())\n",
    "print(\"Numero de NaN en ca en Train:\",X_Train[\"ca\"].isnull().sum())\n",
    "print(\"Numero de NaN en thal en Train:\",X_Train[\"thal\"].isnull().sum())"
   ]
  },
  {
   "cell_type": "markdown",
   "id": "ce5708d3",
   "metadata": {
    "id": "ce5708d3"
   },
   "source": [
    "Como se puede ver, el conjunto de datos contiene algunos valores faltantes en ambas variables; sin embargo, al realizar la partición, `thal` no contiene valores faltantes en este subconjunto. Vamos a proceder con el tratamiento de estos NaN. Dado que son pocos, el tipo de tratamiento que apliquemos no es muy relevante. Sin embargo, realizaremos la imputación considerando un número mayor de NaN, utilizando el método de **k-NN**."
   ]
  },
  {
   "cell_type": "code",
   "execution_count": 10,
   "id": "d385ee2a-afb6-4eae-8e9b-1244d875d93b",
   "metadata": {
    "id": "d385ee2a-afb6-4eae-8e9b-1244d875d93b"
   },
   "outputs": [],
   "source": [
    "from sklearn.impute import SimpleImputer, KNNImputer\n",
    "\n",
    "\n",
    "# Imputadores\n",
    "knn_imputer = KNNImputer(n_neighbors=3)\n",
    "cat_imputer = SimpleImputer(strategy='most_frequent')\n",
    "\n",
    "# Separar las columnas numéricas y categóricas de X_Train_scaled\n",
    "X_Train_continuous = X_Train_scaled[continuous_features]\n",
    "X_Train_categorical = X_Train_scaled[categorical_features]\n",
    "\n",
    "# Imputar las columnas numéricas\n",
    "X_Train_continuous_imputed = knn_imputer.fit_transform(X_Train_continuous)\n",
    "X_Train_continuous_imputed = pd.DataFrame(X_Train_continuous_imputed, columns=continuous_features)\n",
    "\n",
    "# Imputar las columnas categóricas\n",
    "X_Train_categorical_imputed = cat_imputer.fit_transform(X_Train_categorical)\n",
    "X_Train_categorical_imputed = pd.DataFrame(X_Train_categorical_imputed, columns=categorical_features)\n",
    "\n",
    "# Concatenar de nuevo\n",
    "X_Train_scaled = pd.concat([X_Train_continuous_imputed, X_Train_categorical_imputed], axis=1)\n",
    "\n",
    "# Repetir el proceso para X_test_scaled\n",
    "X_test_continuous = X_test_scaled[continuous_features]\n",
    "X_test_categorical = X_test_scaled[categorical_features]\n",
    "\n",
    "X_test_continuous_imputed = knn_imputer.transform(X_test_continuous)\n",
    "X_test_continuous_imputed = pd.DataFrame(X_test_continuous_imputed, columns=continuous_features)\n",
    "\n",
    "X_test_categorical_imputed = cat_imputer.transform(X_test_categorical)\n",
    "X_test_categorical_imputed = pd.DataFrame(X_test_categorical_imputed, columns=categorical_features)\n",
    "\n",
    "X_test_scaled = pd.concat([X_test_continuous_imputed, X_test_categorical_imputed], axis=1)\n",
    "\n",
    "# Repetir el proceso para X_Val_scaled\n",
    "X_Val_continuous = X_Val_scaled[continuous_features]\n",
    "X_Val_categorical = X_Val_scaled[categorical_features]\n",
    "\n",
    "X_Val_continuous_imputed = knn_imputer.transform(X_Val_continuous)\n",
    "X_Val_continuous_imputed = pd.DataFrame(X_Val_continuous_imputed, columns=continuous_features)\n",
    "\n",
    "X_Val_categorical_imputed = cat_imputer.transform(X_Val_categorical)\n",
    "X_Val_categorical_imputed = pd.DataFrame(X_Val_categorical_imputed, columns=categorical_features)\n",
    "\n",
    "X_Val_scaled = pd.concat([X_Val_continuous_imputed, X_Val_categorical_imputed], axis=1)\n",
    "\n",
    "\n"
   ]
  },
  {
   "cell_type": "code",
   "execution_count": 11,
   "id": "c4785d6d-fabe-4c8e-8f01-43dfc0e70cc1",
   "metadata": {
    "colab": {
     "base_uri": "https://localhost:8080/"
    },
    "id": "c4785d6d-fabe-4c8e-8f01-43dfc0e70cc1",
    "outputId": "5d330fdc-bdcc-4e4c-ea26-e2daa5b5601d"
   },
   "outputs": [
    {
     "name": "stdout",
     "output_type": "stream",
     "text": [
      "Train:\n",
      "\tNumero de NA en ca en Train: 0\n",
      "\tNumero de NA en thal en Train: 0\n",
      "\n",
      "Validation:\n",
      "\tNumero de NA en ca en Validation: 0\n",
      "\tNumero de NA en thal en Validation: 0\n",
      "\n",
      "Test:\n",
      "\tNumero de NA en ca en Test: 0\n",
      "\tNumero de NA en thal en Test: 0\n"
     ]
    }
   ],
   "source": [
    "# Verificamos la imputación\n",
    "print(\"Train:\")\n",
    "print(\"\\tNumero de NA en ca en Train:\", X_Train_scaled[\"ca\"].isnull().sum())\n",
    "print(\"\\tNumero de NA en thal en Train:\", X_Train_scaled[\"thal\"].isnull().sum())\n",
    "\n",
    "print(\"\\nValidation:\")\n",
    "print(\"\\tNumero de NA en ca en Validation:\", X_Val_scaled[\"ca\"].isnull().sum())\n",
    "print(\"\\tNumero de NA en thal en Validation:\", X_Val_scaled[\"thal\"].isnull().sum())\n",
    "\n",
    "print(\"\\nTest:\")\n",
    "print(\"\\tNumero de NA en ca en Test:\", X_test_scaled[\"ca\"].isnull().sum())\n",
    "print(\"\\tNumero de NA en thal en Test:\", X_test_scaled[\"thal\"].isnull().sum())"
   ]
  },
  {
   "cell_type": "markdown",
   "id": "0702f4bb-ebd1-441a-b6e6-b05361ed88aa",
   "metadata": {
    "id": "0702f4bb-ebd1-441a-b6e6-b05361ed88aa"
   },
   "source": [
    "Hemos remplazado los NaN mediante el modelo K-NN con un k=3 (se podría hacer un grid search y ser más preciso, pero consideramos que para este caso no es muy determinante), es decir, hemos sustituido el valor faltante por la media de las observaciones más parecidas (cercanas, distancia euclidea) a la tratada."
   ]
  },
  {
   "cell_type": "markdown",
   "id": "754a5354",
   "metadata": {
    "id": "754a5354"
   },
   "source": [
    "### One hot encoding"
   ]
  },
  {
   "cell_type": "markdown",
   "id": "ad7f60f5-9a23-453a-9a58-d97d0ec78e09",
   "metadata": {
    "id": "ad7f60f5-9a23-453a-9a58-d97d0ec78e09"
   },
   "source": [
    "Como mencionamos anteriormente, usaremos la técnica *one hot encoding* para numerizar las variables categóricas y asi poder usarlas en los modelos."
   ]
  },
  {
   "cell_type": "code",
   "execution_count": 12,
   "id": "dee844c8",
   "metadata": {
    "colab": {
     "base_uri": "https://localhost:8080/",
     "height": 402
    },
    "id": "dee844c8",
    "outputId": "06741b2b-f4b1-4b57-a496-8347e04f6368"
   },
   "outputs": [
    {
     "data": {
      "text/html": [
       "<div>\n",
       "<style scoped>\n",
       "    .dataframe tbody tr th:only-of-type {\n",
       "        vertical-align: middle;\n",
       "    }\n",
       "\n",
       "    .dataframe tbody tr th {\n",
       "        vertical-align: top;\n",
       "    }\n",
       "\n",
       "    .dataframe thead th {\n",
       "        text-align: right;\n",
       "    }\n",
       "</style>\n",
       "<table border=\"1\" class=\"dataframe\">\n",
       "  <thead>\n",
       "    <tr style=\"text-align: right;\">\n",
       "      <th></th>\n",
       "      <th>age</th>\n",
       "      <th>trestbps</th>\n",
       "      <th>chol</th>\n",
       "      <th>thalach</th>\n",
       "      <th>oldpeak</th>\n",
       "      <th>ca</th>\n",
       "      <th>sex_0.0</th>\n",
       "      <th>sex_1.0</th>\n",
       "      <th>fbs_0.0</th>\n",
       "      <th>fbs_1.0</th>\n",
       "      <th>...</th>\n",
       "      <th>cp_4.0</th>\n",
       "      <th>restecg_0.0</th>\n",
       "      <th>restecg_1.0</th>\n",
       "      <th>restecg_2.0</th>\n",
       "      <th>slope_1.0</th>\n",
       "      <th>slope_2.0</th>\n",
       "      <th>slope_3.0</th>\n",
       "      <th>thal_3.0</th>\n",
       "      <th>thal_6.0</th>\n",
       "      <th>thal_7.0</th>\n",
       "    </tr>\n",
       "  </thead>\n",
       "  <tbody>\n",
       "    <tr>\n",
       "      <th>count</th>\n",
       "      <td>1.480000e+02</td>\n",
       "      <td>1.480000e+02</td>\n",
       "      <td>1.480000e+02</td>\n",
       "      <td>1.480000e+02</td>\n",
       "      <td>1.480000e+02</td>\n",
       "      <td>148.000000</td>\n",
       "      <td>148.000000</td>\n",
       "      <td>148.000000</td>\n",
       "      <td>148.000000</td>\n",
       "      <td>148.000000</td>\n",
       "      <td>...</td>\n",
       "      <td>148.000000</td>\n",
       "      <td>148.000000</td>\n",
       "      <td>148.000000</td>\n",
       "      <td>148.000000</td>\n",
       "      <td>148.000000</td>\n",
       "      <td>148.000000</td>\n",
       "      <td>148.000000</td>\n",
       "      <td>148.000000</td>\n",
       "      <td>148.000000</td>\n",
       "      <td>148.000000</td>\n",
       "    </tr>\n",
       "    <tr>\n",
       "      <th>mean</th>\n",
       "      <td>-4.800964e-17</td>\n",
       "      <td>8.101627e-17</td>\n",
       "      <td>1.882878e-16</td>\n",
       "      <td>-2.040410e-16</td>\n",
       "      <td>3.000603e-17</td>\n",
       "      <td>-0.007414</td>\n",
       "      <td>0.344595</td>\n",
       "      <td>0.655405</td>\n",
       "      <td>0.864865</td>\n",
       "      <td>0.135135</td>\n",
       "      <td>...</td>\n",
       "      <td>0.466216</td>\n",
       "      <td>0.466216</td>\n",
       "      <td>0.020270</td>\n",
       "      <td>0.513514</td>\n",
       "      <td>0.391892</td>\n",
       "      <td>0.506757</td>\n",
       "      <td>0.101351</td>\n",
       "      <td>0.533784</td>\n",
       "      <td>0.047297</td>\n",
       "      <td>0.418919</td>\n",
       "    </tr>\n",
       "    <tr>\n",
       "      <th>std</th>\n",
       "      <td>1.003396e+00</td>\n",
       "      <td>1.003396e+00</td>\n",
       "      <td>1.003396e+00</td>\n",
       "      <td>1.003396e+00</td>\n",
       "      <td>1.003396e+00</td>\n",
       "      <td>0.998854</td>\n",
       "      <td>0.476850</td>\n",
       "      <td>0.476850</td>\n",
       "      <td>0.343029</td>\n",
       "      <td>0.343029</td>\n",
       "      <td>...</td>\n",
       "      <td>0.500551</td>\n",
       "      <td>0.500551</td>\n",
       "      <td>0.141402</td>\n",
       "      <td>0.501515</td>\n",
       "      <td>0.489830</td>\n",
       "      <td>0.501652</td>\n",
       "      <td>0.302818</td>\n",
       "      <td>0.500551</td>\n",
       "      <td>0.212995</td>\n",
       "      <td>0.495057</td>\n",
       "    </tr>\n",
       "    <tr>\n",
       "      <th>min</th>\n",
       "      <td>-2.881483e+00</td>\n",
       "      <td>-2.140380e+00</td>\n",
       "      <td>-2.144899e+00</td>\n",
       "      <td>-2.356465e+00</td>\n",
       "      <td>-9.426473e-01</td>\n",
       "      <td>-0.734904</td>\n",
       "      <td>0.000000</td>\n",
       "      <td>0.000000</td>\n",
       "      <td>0.000000</td>\n",
       "      <td>0.000000</td>\n",
       "      <td>...</td>\n",
       "      <td>0.000000</td>\n",
       "      <td>0.000000</td>\n",
       "      <td>0.000000</td>\n",
       "      <td>0.000000</td>\n",
       "      <td>0.000000</td>\n",
       "      <td>0.000000</td>\n",
       "      <td>0.000000</td>\n",
       "      <td>0.000000</td>\n",
       "      <td>0.000000</td>\n",
       "      <td>0.000000</td>\n",
       "    </tr>\n",
       "    <tr>\n",
       "      <th>25%</th>\n",
       "      <td>-5.521768e-01</td>\n",
       "      <td>-6.787682e-01</td>\n",
       "      <td>-6.369463e-01</td>\n",
       "      <td>-6.068489e-01</td>\n",
       "      <td>-9.426473e-01</td>\n",
       "      <td>-0.734904</td>\n",
       "      <td>0.000000</td>\n",
       "      <td>0.000000</td>\n",
       "      <td>1.000000</td>\n",
       "      <td>0.000000</td>\n",
       "      <td>...</td>\n",
       "      <td>0.000000</td>\n",
       "      <td>0.000000</td>\n",
       "      <td>0.000000</td>\n",
       "      <td>0.000000</td>\n",
       "      <td>0.000000</td>\n",
       "      <td>0.000000</td>\n",
       "      <td>0.000000</td>\n",
       "      <td>0.000000</td>\n",
       "      <td>0.000000</td>\n",
       "      <td>0.000000</td>\n",
       "    </tr>\n",
       "    <tr>\n",
       "      <th>50%</th>\n",
       "      <td>3.716574e-02</td>\n",
       "      <td>-1.166099e-01</td>\n",
       "      <td>-6.271044e-02</td>\n",
       "      <td>4.364947e-02</td>\n",
       "      <td>-2.075149e-01</td>\n",
       "      <td>-0.734904</td>\n",
       "      <td>0.000000</td>\n",
       "      <td>1.000000</td>\n",
       "      <td>1.000000</td>\n",
       "      <td>0.000000</td>\n",
       "      <td>...</td>\n",
       "      <td>0.000000</td>\n",
       "      <td>0.000000</td>\n",
       "      <td>0.000000</td>\n",
       "      <td>1.000000</td>\n",
       "      <td>0.000000</td>\n",
       "      <td>1.000000</td>\n",
       "      <td>0.000000</td>\n",
       "      <td>1.000000</td>\n",
       "      <td>0.000000</td>\n",
       "      <td>0.000000</td>\n",
       "    </tr>\n",
       "    <tr>\n",
       "      <th>75%</th>\n",
       "      <td>7.107000e-01</td>\n",
       "      <td>4.455485e-01</td>\n",
       "      <td>4.368281e-01</td>\n",
       "      <td>7.502253e-01</td>\n",
       "      <td>5.276176e-01</td>\n",
       "      <td>0.382763</td>\n",
       "      <td>1.000000</td>\n",
       "      <td>1.000000</td>\n",
       "      <td>1.000000</td>\n",
       "      <td>0.000000</td>\n",
       "      <td>...</td>\n",
       "      <td>1.000000</td>\n",
       "      <td>1.000000</td>\n",
       "      <td>0.000000</td>\n",
       "      <td>1.000000</td>\n",
       "      <td>1.000000</td>\n",
       "      <td>1.000000</td>\n",
       "      <td>0.000000</td>\n",
       "      <td>1.000000</td>\n",
       "      <td>0.000000</td>\n",
       "      <td>1.000000</td>\n",
       "    </tr>\n",
       "    <tr>\n",
       "      <th>max</th>\n",
       "      <td>2.394536e+00</td>\n",
       "      <td>3.368772e+00</td>\n",
       "      <td>5.941089e+00</td>\n",
       "      <td>2.398902e+00</td>\n",
       "      <td>4.121599e+00</td>\n",
       "      <td>2.618097</td>\n",
       "      <td>1.000000</td>\n",
       "      <td>1.000000</td>\n",
       "      <td>1.000000</td>\n",
       "      <td>1.000000</td>\n",
       "      <td>...</td>\n",
       "      <td>1.000000</td>\n",
       "      <td>1.000000</td>\n",
       "      <td>1.000000</td>\n",
       "      <td>1.000000</td>\n",
       "      <td>1.000000</td>\n",
       "      <td>1.000000</td>\n",
       "      <td>1.000000</td>\n",
       "      <td>1.000000</td>\n",
       "      <td>1.000000</td>\n",
       "      <td>1.000000</td>\n",
       "    </tr>\n",
       "  </tbody>\n",
       "</table>\n",
       "<p>8 rows × 25 columns</p>\n",
       "</div>"
      ],
      "text/plain": [
       "                age      trestbps          chol       thalach       oldpeak  \\\n",
       "count  1.480000e+02  1.480000e+02  1.480000e+02  1.480000e+02  1.480000e+02   \n",
       "mean  -4.800964e-17  8.101627e-17  1.882878e-16 -2.040410e-16  3.000603e-17   \n",
       "std    1.003396e+00  1.003396e+00  1.003396e+00  1.003396e+00  1.003396e+00   \n",
       "min   -2.881483e+00 -2.140380e+00 -2.144899e+00 -2.356465e+00 -9.426473e-01   \n",
       "25%   -5.521768e-01 -6.787682e-01 -6.369463e-01 -6.068489e-01 -9.426473e-01   \n",
       "50%    3.716574e-02 -1.166099e-01 -6.271044e-02  4.364947e-02 -2.075149e-01   \n",
       "75%    7.107000e-01  4.455485e-01  4.368281e-01  7.502253e-01  5.276176e-01   \n",
       "max    2.394536e+00  3.368772e+00  5.941089e+00  2.398902e+00  4.121599e+00   \n",
       "\n",
       "               ca     sex_0.0     sex_1.0     fbs_0.0     fbs_1.0  ...  \\\n",
       "count  148.000000  148.000000  148.000000  148.000000  148.000000  ...   \n",
       "mean    -0.007414    0.344595    0.655405    0.864865    0.135135  ...   \n",
       "std      0.998854    0.476850    0.476850    0.343029    0.343029  ...   \n",
       "min     -0.734904    0.000000    0.000000    0.000000    0.000000  ...   \n",
       "25%     -0.734904    0.000000    0.000000    1.000000    0.000000  ...   \n",
       "50%     -0.734904    0.000000    1.000000    1.000000    0.000000  ...   \n",
       "75%      0.382763    1.000000    1.000000    1.000000    0.000000  ...   \n",
       "max      2.618097    1.000000    1.000000    1.000000    1.000000  ...   \n",
       "\n",
       "           cp_4.0  restecg_0.0  restecg_1.0  restecg_2.0   slope_1.0  \\\n",
       "count  148.000000   148.000000   148.000000   148.000000  148.000000   \n",
       "mean     0.466216     0.466216     0.020270     0.513514    0.391892   \n",
       "std      0.500551     0.500551     0.141402     0.501515    0.489830   \n",
       "min      0.000000     0.000000     0.000000     0.000000    0.000000   \n",
       "25%      0.000000     0.000000     0.000000     0.000000    0.000000   \n",
       "50%      0.000000     0.000000     0.000000     1.000000    0.000000   \n",
       "75%      1.000000     1.000000     0.000000     1.000000    1.000000   \n",
       "max      1.000000     1.000000     1.000000     1.000000    1.000000   \n",
       "\n",
       "        slope_2.0   slope_3.0    thal_3.0    thal_6.0    thal_7.0  \n",
       "count  148.000000  148.000000  148.000000  148.000000  148.000000  \n",
       "mean     0.506757    0.101351    0.533784    0.047297    0.418919  \n",
       "std      0.501652    0.302818    0.500551    0.212995    0.495057  \n",
       "min      0.000000    0.000000    0.000000    0.000000    0.000000  \n",
       "25%      0.000000    0.000000    0.000000    0.000000    0.000000  \n",
       "50%      1.000000    0.000000    1.000000    0.000000    0.000000  \n",
       "75%      1.000000    0.000000    1.000000    0.000000    1.000000  \n",
       "max      1.000000    1.000000    1.000000    1.000000    1.000000  \n",
       "\n",
       "[8 rows x 25 columns]"
      ]
     },
     "execution_count": 12,
     "metadata": {},
     "output_type": "execute_result"
    }
   ],
   "source": [
    "from sklearn.preprocessing import OneHotEncoder\n",
    "import pandas as pd\n",
    "# Inicializar el codificador\n",
    "encoder = OneHotEncoder(sparse_output=False)\n",
    "# Aplicar el One-Hot Encoder a las columnas categóricas\n",
    "encoded_features = encoder.fit_transform(X_Train_scaled[categorical_features])\n",
    "# Convertir la salida codificada en un DataFrame con los nombres de las columnas\n",
    "encoded_feature_names = encoder.get_feature_names_out(categorical_features)\n",
    "encoded_df = pd.DataFrame(encoded_features, columns=encoded_feature_names)\n",
    "X_Train_scaled[categorical_features] = X_Train_scaled[categorical_features].astype('category')\n",
    "\n",
    "# Concatenar las columnas codificadas con las demás columnas de X_Train\n",
    "X_Train_encoded = pd.concat([X_Train_scaled.drop(columns=categorical_features), encoded_df], axis=1)\n",
    "\n",
    "#Repetimos para validation y test\n",
    "\n",
    "encoded_features_val = encoder.transform(X_Val_scaled[categorical_features])\n",
    "encoded_feature_names_val = encoder.get_feature_names_out(categorical_features)\n",
    "encoded_df_val = pd.DataFrame(encoded_features_val, columns=encoded_feature_names_val)\n",
    "\n",
    "X_Val_encoded = pd.concat([X_Val_scaled.drop(columns=categorical_features), encoded_df_val], axis=1)\n",
    "\n",
    "encoded_features_test = encoder.transform(X_test_scaled[categorical_features])\n",
    "encoded_feature_names_test = encoder.get_feature_names_out(categorical_features)\n",
    "encoded_df_test = pd.DataFrame(encoded_features_test, columns=encoded_feature_names_test)\n",
    "\n",
    "X_test_encoded = pd.concat([X_test_scaled.drop(columns=categorical_features), encoded_df_test], axis=1)\n",
    "\n",
    "X_Train_preprocesado = X_Train_encoded.copy()\n",
    "X_Val_preprocesado = X_Val_encoded.copy()\n",
    "X_test_preprocesado = X_test_encoded.copy()\n",
    "\n",
    "\n",
    "\n",
    "X_Train_preprocesado.describe()\n",
    "\n"
   ]
  },
  {
   "cell_type": "markdown",
   "id": "b31762e0",
   "metadata": {
    "id": "b31762e0"
   },
   "source": [
    "Ahora tenemos por cada etiqueta de las variable categóricas un atributo binario que indica dicha etiqueta de la observacion.\n",
    "\n",
    "Tras esto, ya hemos terminado con el preprocesamiento de los datos; hemos solucionado los missing values y trasnformado las variables categóricas. (hay que normalizar las variables continuas)\n",
    "\n",
    "Ahora vamos a visualizar la matriz de correlacion entre las variables y el target para ver si algun par esta muy linealmente correlado:"
   ]
  },
  {
   "cell_type": "code",
   "execution_count": 13,
   "id": "50da2b93",
   "metadata": {
    "colab": {
     "base_uri": "https://localhost:8080/",
     "height": 611
    },
    "id": "50da2b93",
    "outputId": "cefb66d9-702e-4991-ec4e-0e45577114c1"
   },
   "outputs": [
    {
     "data": {
      "image/png": "[encoded data removed]",
      "text/plain": [
       "<Figure size 800x600 with 2 Axes>"
      ]
     },
     "metadata": {},
     "output_type": "display_data"
    }
   ],
   "source": [
    "import seaborn as sns\n",
    "import matplotlib.pyplot as plt\n",
    "X_Y_Train = X_Train_encoded.copy()\n",
    "X_Y_Train[\"Target\"] = Y_Train\n",
    "corr = X_Y_Train.corr()\n",
    "plt.figure(figsize=(8, 6))\n",
    "sns.heatmap(corr, annot=False, cmap='RdYlGn', center=0, square=True, linewidths=1)\n",
    "plt.title(\"Matriz de correlacion\")\n",
    "plt.show()\n"
   ]
  },
  {
   "cell_type": "markdown",
   "id": "f7955b82",
   "metadata": {
    "id": "f7955b82"
   },
   "source": [
    "De esta gráfica observamos que apenas ningun par esta muy correlacionado, a excepción de algunas como Thal-Target y oldpeak-slope. La información que podemos extraer de aqui es que ningun atributo por si solo esta muy correlada con el target (solo thal se acerca a una buena correlacion positiva) y que los atributos entre si no tienen apenas correlación (lo que nos indica, a priori, que no hay redundancia y que no debemos eliminar ninguo de estos atributos).\n",
    "\n",
    "Cabe destacar que hay cierta correlación entre las variables que han surgido del One Hot Encoding, pero dicha correlacion es normal por la naturaleza de estas, no es necesario tenerlo en cuenta (conceptualmente, nos dice que si no es de una clase, pues es de otra, lo que no nos da nueva información).\n",
    "\n"
   ]
  },
  {
   "cell_type": "markdown",
   "id": "6ec6d6d2",
   "metadata": {
    "id": "6ec6d6d2"
   },
   "source": [
    "## Sección II. Esquema lineal y selección de características"
   ]
  },
  {
   "cell_type": "markdown",
   "id": "a6bfef53-b4d2-4906-b13c-d1e652649dbb",
   "metadata": {
    "id": "a6bfef53-b4d2-4906-b13c-d1e652649dbb"
   },
   "source": [
    "### *Regresión Logística: todas las variables*<br>"
   ]
  },
  {
   "cell_type": "markdown",
   "id": "94251a9d-b537-41fc-b22c-bc7409f60ec7",
   "metadata": {
    "id": "94251a9d-b537-41fc-b22c-bc7409f60ec7"
   },
   "source": [
    "A continuación vamos a crear un modelo de **regresión logística** usando todas los atributos y sin ningun parámetro de regularización, pero primero escalaremos las variables que hagan falta para obtener mejores resultados."
   ]
  },
  {
   "cell_type": "code",
   "execution_count": 14,
   "id": "33697241",
   "metadata": {
    "colab": {
     "base_uri": "https://localhost:8080/",
     "height": 136
    },
    "id": "33697241",
    "outputId": "bbb51adc-b7ca-4124-c82c-80d82e593493"
   },
   "outputs": [
    {
     "data": {
      "text/html": [
       "<style>#sk-container-id-1 {\n",
       "  /* Definition of color scheme common for light and dark mode */\n",
       "  --sklearn-color-text: black;\n",
       "  --sklearn-color-line: gray;\n",
       "  /* Definition of color scheme for unfitted estimators */\n",
       "  --sklearn-color-unfitted-level-0: #fff5e6;\n",
       "  --sklearn-color-unfitted-level-1: #f6e4d2;\n",
       "  --sklearn-color-unfitted-level-2: #ffe0b3;\n",
       "  --sklearn-color-unfitted-level-3: chocolate;\n",
       "  /* Definition of color scheme for fitted estimators */\n",
       "  --sklearn-color-fitted-level-0: #f0f8ff;\n",
       "  --sklearn-color-fitted-level-1: #d4ebff;\n",
       "  --sklearn-color-fitted-level-2: #b3dbfd;\n",
       "  --sklearn-color-fitted-level-3: cornflowerblue;\n",
       "\n",
       "  /* Specific color for light theme */\n",
       "  --sklearn-color-text-on-default-background: var(--sg-text-color, var(--theme-code-foreground, var(--jp-content-font-color1, black)));\n",
       "  --sklearn-color-background: var(--sg-background-color, var(--theme-background, var(--jp-layout-color0, white)));\n",
       "  --sklearn-color-border-box: var(--sg-text-color, var(--theme-code-foreground, var(--jp-content-font-color1, black)));\n",
       "  --sklearn-color-icon: #696969;\n",
       "\n",
       "  @media (prefers-color-scheme: dark) {\n",
       "    /* Redefinition of color scheme for dark theme */\n",
       "    --sklearn-color-text-on-default-background: var(--sg-text-color, var(--theme-code-foreground, var(--jp-content-font-color1, white)));\n",
       "    --sklearn-color-background: var(--sg-background-color, var(--theme-background, var(--jp-layout-color0, #111)));\n",
       "    --sklearn-color-border-box: var(--sg-text-color, var(--theme-code-foreground, var(--jp-content-font-color1, white)));\n",
       "    --sklearn-color-icon: #878787;\n",
       "  }\n",
       "}\n",
       "\n",
       "#sk-container-id-1 {\n",
       "  color: var(--sklearn-color-text);\n",
       "}\n",
       "\n",
       "#sk-container-id-1 pre {\n",
       "  padding: 0;\n",
       "}\n",
       "\n",
       "#sk-container-id-1 input.sk-hidden--visually {\n",
       "  border: 0;\n",
       "  clip: rect(1px 1px 1px 1px);\n",
       "  clip: rect(1px, 1px, 1px, 1px);\n",
       "  height: 1px;\n",
       "  margin: -1px;\n",
       "  overflow: hidden;\n",
       "  padding: 0;\n",
       "  position: absolute;\n",
       "  width: 1px;\n",
       "}\n",
       "\n",
       "#sk-container-id-1 div.sk-dashed-wrapped {\n",
       "  border: 1px dashed var(--sklearn-color-line);\n",
       "  margin: 0 0.4em 0.5em 0.4em;\n",
       "  box-sizing: border-box;\n",
       "  padding-bottom: 0.4em;\n",
       "  background-color: var(--sklearn-color-background);\n",
       "}\n",
       "\n",
       "#sk-container-id-1 div.sk-container {\n",
       "  /* jupyter's `normalize.less` sets `[hidden] { display: none; }`\n",
       "     but bootstrap.min.css set `[hidden] { display: none !important; }`\n",
       "     so we also need the `!important` here to be able to override the\n",
       "     default hidden behavior on the sphinx rendered scikit-learn.org.\n",
       "     See: https://github.com/scikit-learn/scikit-learn/issues/21755 */\n",
       "  display: inline-block !important;\n",
       "  position: relative;\n",
       "}\n",
       "\n",
       "#sk-container-id-1 div.sk-text-repr-fallback {\n",
       "  display: none;\n",
       "}\n",
       "\n",
       "div.sk-parallel-item,\n",
       "div.sk-serial,\n",
       "div.sk-item {\n",
       "  /* draw centered vertical line to link estimators */\n",
       "  background-image: linear-gradient(var(--sklearn-color-text-on-default-background), var(--sklearn-color-text-on-default-background));\n",
       "  background-size: 2px 100%;\n",
       "  background-repeat: no-repeat;\n",
       "  background-position: center center;\n",
       "}\n",
       "\n",
       "/* Parallel-specific style estimator block */\n",
       "\n",
       "#sk-container-id-1 div.sk-parallel-item::after {\n",
       "  content: \"\";\n",
       "  width: 100%;\n",
       "  border-bottom: 2px solid var(--sklearn-color-text-on-default-background);\n",
       "  flex-grow: 1;\n",
       "}\n",
       "\n",
       "#sk-container-id-1 div.sk-parallel {\n",
       "  display: flex;\n",
       "  align-items: stretch;\n",
       "  justify-content: center;\n",
       "  background-color: var(--sklearn-color-background);\n",
       "  position: relative;\n",
       "}\n",
       "\n",
       "#sk-container-id-1 div.sk-parallel-item {\n",
       "  display: flex;\n",
       "  flex-direction: column;\n",
       "}\n",
       "\n",
       "#sk-container-id-1 div.sk-parallel-item:first-child::after {\n",
       "  align-self: flex-end;\n",
       "  width: 50%;\n",
       "}\n",
       "\n",
       "#sk-container-id-1 div.sk-parallel-item:last-child::after {\n",
       "  align-self: flex-start;\n",
       "  width: 50%;\n",
       "}\n",
       "\n",
       "#sk-container-id-1 div.sk-parallel-item:only-child::after {\n",
       "  width: 0;\n",
       "}\n",
       "\n",
       "/* Serial-specific style estimator block */\n",
       "\n",
       "#sk-container-id-1 div.sk-serial {\n",
       "  display: flex;\n",
       "  flex-direction: column;\n",
       "  align-items: center;\n",
       "  background-color: var(--sklearn-color-background);\n",
       "  padding-right: 1em;\n",
       "  padding-left: 1em;\n",
       "}\n",
       "\n",
       "\n",
       "/* Toggleable style: style used for estimator/Pipeline/ColumnTransformer box that is\n",
       "clickable and can be expanded/collapsed.\n",
       "- Pipeline and ColumnTransformer use this feature and define the default style\n",
       "- Estimators will overwrite some part of the style using the `sk-estimator` class\n",
       "*/\n",
       "\n",
       "/* Pipeline and ColumnTransformer style (default) */\n",
       "\n",
       "#sk-container-id-1 div.sk-toggleable {\n",
       "  /* Default theme specific background. It is overwritten whether we have a\n",
       "  specific estimator or a Pipeline/ColumnTransformer */\n",
       "  background-color: var(--sklearn-color-background);\n",
       "}\n",
       "\n",
       "/* Toggleable label */\n",
       "#sk-container-id-1 label.sk-toggleable__label {\n",
       "  cursor: pointer;\n",
       "  display: block;\n",
       "  width: 100%;\n",
       "  margin-bottom: 0;\n",
       "  padding: 0.5em;\n",
       "  box-sizing: border-box;\n",
       "  text-align: center;\n",
       "}\n",
       "\n",
       "#sk-container-id-1 label.sk-toggleable__label-arrow:before {\n",
       "  /* Arrow on the left of the label */\n",
       "  content: \"▸\";\n",
       "  float: left;\n",
       "  margin-right: 0.25em;\n",
       "  color: var(--sklearn-color-icon);\n",
       "}\n",
       "\n",
       "#sk-container-id-1 label.sk-toggleable__label-arrow:hover:before {\n",
       "  color: var(--sklearn-color-text);\n",
       "}\n",
       "\n",
       "/* Toggleable content - dropdown */\n",
       "\n",
       "#sk-container-id-1 div.sk-toggleable__content {\n",
       "  max-height: 0;\n",
       "  max-width: 0;\n",
       "  overflow: hidden;\n",
       "  text-align: left;\n",
       "  /* unfitted */\n",
       "  background-color: var(--sklearn-color-unfitted-level-0);\n",
       "}\n",
       "\n",
       "#sk-container-id-1 div.sk-toggleable__content.fitted {\n",
       "  /* fitted */\n",
       "  background-color: var(--sklearn-color-fitted-level-0);\n",
       "}\n",
       "\n",
       "#sk-container-id-1 div.sk-toggleable__content pre {\n",
       "  margin: 0.2em;\n",
       "  border-radius: 0.25em;\n",
       "  color: var(--sklearn-color-text);\n",
       "  /* unfitted */\n",
       "  background-color: var(--sklearn-color-unfitted-level-0);\n",
       "}\n",
       "\n",
       "#sk-container-id-1 div.sk-toggleable__content.fitted pre {\n",
       "  /* unfitted */\n",
       "  background-color: var(--sklearn-color-fitted-level-0);\n",
       "}\n",
       "\n",
       "#sk-container-id-1 input.sk-toggleable__control:checked~div.sk-toggleable__content {\n",
       "  /* Expand drop-down */\n",
       "  max-height: 200px;\n",
       "  max-width: 100%;\n",
       "  overflow: auto;\n",
       "}\n",
       "\n",
       "#sk-container-id-1 input.sk-toggleable__control:checked~label.sk-toggleable__label-arrow:before {\n",
       "  content: \"▾\";\n",
       "}\n",
       "\n",
       "/* Pipeline/ColumnTransformer-specific style */\n",
       "\n",
       "#sk-container-id-1 div.sk-label input.sk-toggleable__control:checked~label.sk-toggleable__label {\n",
       "  color: var(--sklearn-color-text);\n",
       "  background-color: var(--sklearn-color-unfitted-level-2);\n",
       "}\n",
       "\n",
       "#sk-container-id-1 div.sk-label.fitted input.sk-toggleable__control:checked~label.sk-toggleable__label {\n",
       "  background-color: var(--sklearn-color-fitted-level-2);\n",
       "}\n",
       "\n",
       "/* Estimator-specific style */\n",
       "\n",
       "/* Colorize estimator box */\n",
       "#sk-container-id-1 div.sk-estimator input.sk-toggleable__control:checked~label.sk-toggleable__label {\n",
       "  /* unfitted */\n",
       "  background-color: var(--sklearn-color-unfitted-level-2);\n",
       "}\n",
       "\n",
       "#sk-container-id-1 div.sk-estimator.fitted input.sk-toggleable__control:checked~label.sk-toggleable__label {\n",
       "  /* fitted */\n",
       "  background-color: var(--sklearn-color-fitted-level-2);\n",
       "}\n",
       "\n",
       "#sk-container-id-1 div.sk-label label.sk-toggleable__label,\n",
       "#sk-container-id-1 div.sk-label label {\n",
       "  /* The background is the default theme color */\n",
       "  color: var(--sklearn-color-text-on-default-background);\n",
       "}\n",
       "\n",
       "/* On hover, darken the color of the background */\n",
       "#sk-container-id-1 div.sk-label:hover label.sk-toggleable__label {\n",
       "  color: var(--sklearn-color-text);\n",
       "  background-color: var(--sklearn-color-unfitted-level-2);\n",
       "}\n",
       "\n",
       "/* Label box, darken color on hover, fitted */\n",
       "#sk-container-id-1 div.sk-label.fitted:hover label.sk-toggleable__label.fitted {\n",
       "  color: var(--sklearn-color-text);\n",
       "  background-color: var(--sklearn-color-fitted-level-2);\n",
       "}\n",
       "\n",
       "/* Estimator label */\n",
       "\n",
       "#sk-container-id-1 div.sk-label label {\n",
       "  font-family: monospace;\n",
       "  font-weight: bold;\n",
       "  display: inline-block;\n",
       "  line-height: 1.2em;\n",
       "}\n",
       "\n",
       "#sk-container-id-1 div.sk-label-container {\n",
       "  text-align: center;\n",
       "}\n",
       "\n",
       "/* Estimator-specific */\n",
       "#sk-container-id-1 div.sk-estimator {\n",
       "  font-family: monospace;\n",
       "  border: 1px dotted var(--sklearn-color-border-box);\n",
       "  border-radius: 0.25em;\n",
       "  box-sizing: border-box;\n",
       "  margin-bottom: 0.5em;\n",
       "  /* unfitted */\n",
       "  background-color: var(--sklearn-color-unfitted-level-0);\n",
       "}\n",
       "\n",
       "#sk-container-id-1 div.sk-estimator.fitted {\n",
       "  /* fitted */\n",
       "  background-color: var(--sklearn-color-fitted-level-0);\n",
       "}\n",
       "\n",
       "/* on hover */\n",
       "#sk-container-id-1 div.sk-estimator:hover {\n",
       "  /* unfitted */\n",
       "  background-color: var(--sklearn-color-unfitted-level-2);\n",
       "}\n",
       "\n",
       "#sk-container-id-1 div.sk-estimator.fitted:hover {\n",
       "  /* fitted */\n",
       "  background-color: var(--sklearn-color-fitted-level-2);\n",
       "}\n",
       "\n",
       "/* Specification for estimator info (e.g. \"i\" and \"?\") */\n",
       "\n",
       "/* Common style for \"i\" and \"?\" */\n",
       "\n",
       ".sk-estimator-doc-link,\n",
       "a:link.sk-estimator-doc-link,\n",
       "a:visited.sk-estimator-doc-link {\n",
       "  float: right;\n",
       "  font-size: smaller;\n",
       "  line-height: 1em;\n",
       "  font-family: monospace;\n",
       "  background-color: var(--sklearn-color-background);\n",
       "  border-radius: 1em;\n",
       "  height: 1em;\n",
       "  width: 1em;\n",
       "  text-decoration: none !important;\n",
       "  margin-left: 1ex;\n",
       "  /* unfitted */\n",
       "  border: var(--sklearn-color-unfitted-level-1) 1pt solid;\n",
       "  color: var(--sklearn-color-unfitted-level-1);\n",
       "}\n",
       "\n",
       ".sk-estimator-doc-link.fitted,\n",
       "a:link.sk-estimator-doc-link.fitted,\n",
       "a:visited.sk-estimator-doc-link.fitted {\n",
       "  /* fitted */\n",
       "  border: var(--sklearn-color-fitted-level-1) 1pt solid;\n",
       "  color: var(--sklearn-color-fitted-level-1);\n",
       "}\n",
       "\n",
       "/* On hover */\n",
       "div.sk-estimator:hover .sk-estimator-doc-link:hover,\n",
       ".sk-estimator-doc-link:hover,\n",
       "div.sk-label-container:hover .sk-estimator-doc-link:hover,\n",
       ".sk-estimator-doc-link:hover {\n",
       "  /* unfitted */\n",
       "  background-color: var(--sklearn-color-unfitted-level-3);\n",
       "  color: var(--sklearn-color-background);\n",
       "  text-decoration: none;\n",
       "}\n",
       "\n",
       "div.sk-estimator.fitted:hover .sk-estimator-doc-link.fitted:hover,\n",
       ".sk-estimator-doc-link.fitted:hover,\n",
       "div.sk-label-container:hover .sk-estimator-doc-link.fitted:hover,\n",
       ".sk-estimator-doc-link.fitted:hover {\n",
       "  /* fitted */\n",
       "  background-color: var(--sklearn-color-fitted-level-3);\n",
       "  color: var(--sklearn-color-background);\n",
       "  text-decoration: none;\n",
       "}\n",
       "\n",
       "/* Span, style for the box shown on hovering the info icon */\n",
       ".sk-estimator-doc-link span {\n",
       "  display: none;\n",
       "  z-index: 9999;\n",
       "  position: relative;\n",
       "  font-weight: normal;\n",
       "  right: .2ex;\n",
       "  padding: .5ex;\n",
       "  margin: .5ex;\n",
       "  width: min-content;\n",
       "  min-width: 20ex;\n",
       "  max-width: 50ex;\n",
       "  color: var(--sklearn-color-text);\n",
       "  box-shadow: 2pt 2pt 4pt #999;\n",
       "  /* unfitted */\n",
       "  background: var(--sklearn-color-unfitted-level-0);\n",
       "  border: .5pt solid var(--sklearn-color-unfitted-level-3);\n",
       "}\n",
       "\n",
       ".sk-estimator-doc-link.fitted span {\n",
       "  /* fitted */\n",
       "  background: var(--sklearn-color-fitted-level-0);\n",
       "  border: var(--sklearn-color-fitted-level-3);\n",
       "}\n",
       "\n",
       ".sk-estimator-doc-link:hover span {\n",
       "  display: block;\n",
       "}\n",
       "\n",
       "/* \"?\"-specific style due to the `<a>` HTML tag */\n",
       "\n",
       "#sk-container-id-1 a.estimator_doc_link {\n",
       "  float: right;\n",
       "  font-size: 1rem;\n",
       "  line-height: 1em;\n",
       "  font-family: monospace;\n",
       "  background-color: var(--sklearn-color-background);\n",
       "  border-radius: 1rem;\n",
       "  height: 1rem;\n",
       "  width: 1rem;\n",
       "  text-decoration: none;\n",
       "  /* unfitted */\n",
       "  color: var(--sklearn-color-unfitted-level-1);\n",
       "  border: var(--sklearn-color-unfitted-level-1) 1pt solid;\n",
       "}\n",
       "\n",
       "#sk-container-id-1 a.estimator_doc_link.fitted {\n",
       "  /* fitted */\n",
       "  border: var(--sklearn-color-fitted-level-1) 1pt solid;\n",
       "  color: var(--sklearn-color-fitted-level-1);\n",
       "}\n",
       "\n",
       "/* On hover */\n",
       "#sk-container-id-1 a.estimator_doc_link:hover {\n",
       "  /* unfitted */\n",
       "  background-color: var(--sklearn-color-unfitted-level-3);\n",
       "  color: var(--sklearn-color-background);\n",
       "  text-decoration: none;\n",
       "}\n",
       "\n",
       "#sk-container-id-1 a.estimator_doc_link.fitted:hover {\n",
       "  /* fitted */\n",
       "  background-color: var(--sklearn-color-fitted-level-3);\n",
       "}\n",
       "</style><div id=\"sk-container-id-1\" class=\"sk-top-container\"><div class=\"sk-text-repr-fallback\"><pre>GridSearchCV(cv=10,\n",
       "             estimator=LogisticRegression(penalty=None, random_state=314),\n",
       "             param_grid=[{&#x27;C&#x27;: [0.001, 0.01, 0.1, 1, 10, 100],\n",
       "                          &#x27;solver&#x27;: [&#x27;lbfgs&#x27;, &#x27;liblinear&#x27;, &#x27;newton-cg&#x27;,\n",
       "                                     &#x27;newton-cholesky&#x27;, &#x27;sag&#x27;, &#x27;saga&#x27;]}],\n",
       "             scoring=&#x27;accuracy&#x27;)</pre><b>In a Jupyter environment, please rerun this cell to show the HTML representation or trust the notebook. <br />On GitHub, the HTML representation is unable to render, please try loading this page with nbviewer.org.</b></div><div class=\"sk-container\" hidden><div class=\"sk-item sk-dashed-wrapped\"><div class=\"sk-label-container\"><div class=\"sk-label fitted sk-toggleable\"><input class=\"sk-toggleable__control sk-hidden--visually\" id=\"sk-estimator-id-1\" type=\"checkbox\" ><label for=\"sk-estimator-id-1\" class=\"sk-toggleable__label fitted sk-toggleable__label-arrow fitted\">&nbsp;&nbsp;GridSearchCV<a class=\"sk-estimator-doc-link fitted\" rel=\"noreferrer\" target=\"_blank\" href=\"https://scikit-learn.org/1.5/modules/generated/sklearn.model_selection.GridSearchCV.html\">?<span>Documentation for GridSearchCV</span></a><span class=\"sk-estimator-doc-link fitted\">i<span>Fitted</span></span></label><div class=\"sk-toggleable__content fitted\"><pre>GridSearchCV(cv=10,\n",
       "             estimator=LogisticRegression(penalty=None, random_state=314),\n",
       "             param_grid=[{&#x27;C&#x27;: [0.001, 0.01, 0.1, 1, 10, 100],\n",
       "                          &#x27;solver&#x27;: [&#x27;lbfgs&#x27;, &#x27;liblinear&#x27;, &#x27;newton-cg&#x27;,\n",
       "                                     &#x27;newton-cholesky&#x27;, &#x27;sag&#x27;, &#x27;saga&#x27;]}],\n",
       "             scoring=&#x27;accuracy&#x27;)</pre></div> </div></div><div class=\"sk-parallel\"><div class=\"sk-parallel-item\"><div class=\"sk-item\"><div class=\"sk-label-container\"><div class=\"sk-label fitted sk-toggleable\"><input class=\"sk-toggleable__control sk-hidden--visually\" id=\"sk-estimator-id-2\" type=\"checkbox\" ><label for=\"sk-estimator-id-2\" class=\"sk-toggleable__label fitted sk-toggleable__label-arrow fitted\">best_estimator_: LogisticRegression</label><div class=\"sk-toggleable__content fitted\"><pre>LogisticRegression(C=0.001, penalty=None, random_state=314, solver=&#x27;sag&#x27;)</pre></div> </div></div><div class=\"sk-serial\"><div class=\"sk-item\"><div class=\"sk-estimator fitted sk-toggleable\"><input class=\"sk-toggleable__control sk-hidden--visually\" id=\"sk-estimator-id-3\" type=\"checkbox\" ><label for=\"sk-estimator-id-3\" class=\"sk-toggleable__label fitted sk-toggleable__label-arrow fitted\">&nbsp;LogisticRegression<a class=\"sk-estimator-doc-link fitted\" rel=\"noreferrer\" target=\"_blank\" href=\"https://scikit-learn.org/1.5/modules/generated/sklearn.linear_model.LogisticRegression.html\">?<span>Documentation for LogisticRegression</span></a></label><div class=\"sk-toggleable__content fitted\"><pre>LogisticRegression(C=0.001, penalty=None, random_state=314, solver=&#x27;sag&#x27;)</pre></div> </div></div></div></div></div></div></div></div></div>"
      ],
      "text/plain": [
       "GridSearchCV(cv=10,\n",
       "             estimator=LogisticRegression(penalty=None, random_state=314),\n",
       "             param_grid=[{'C': [0.001, 0.01, 0.1, 1, 10, 100],\n",
       "                          'solver': ['lbfgs', 'liblinear', 'newton-cg',\n",
       "                                     'newton-cholesky', 'sag', 'saga']}],\n",
       "             scoring='accuracy')"
      ]
     },
     "execution_count": 14,
     "metadata": {},
     "output_type": "execute_result"
    }
   ],
   "source": [
    "from sklearn.model_selection import GridSearchCV\n",
    "from sklearn.linear_model import LogisticRegression\n",
    "hiper_parametros = [{'C' : [0.001, 0.01, 0.1, 1, 10, 100], \"solver\" : [\"lbfgs\", \"liblinear\",\"newton-cg\", \"newton-cholesky\", \"sag\", \"saga\"]}]\n",
    "RegresionLogistica_GS = GridSearchCV(LogisticRegression(penalty=None,random_state= 314), hiper_parametros,  cv=10, scoring='accuracy')\n",
    "RegresionLogistica_GS.fit(X_Train_scaled, Y_Train)"
   ]
  },
  {
   "cell_type": "code",
   "execution_count": 15,
   "id": "d1a55634-d15c-4482-8c51-a787908d64cd",
   "metadata": {
    "colab": {
     "base_uri": "https://localhost:8080/"
    },
    "id": "d1a55634-d15c-4482-8c51-a787908d64cd",
    "outputId": "a1c69858-a9aa-4f46-af0c-3cd41bc3b697"
   },
   "outputs": [
    {
     "data": {
      "text/plain": [
       "0.8233333333333333"
      ]
     },
     "execution_count": 15,
     "metadata": {},
     "output_type": "execute_result"
    }
   ],
   "source": [
    "RegresionLogistica_GS.best_score_"
   ]
  },
  {
   "cell_type": "markdown",
   "id": "dde1f5e8",
   "metadata": {},
   "source": [
    "## Regresión 1"
   ]
  },
  {
   "cell_type": "markdown",
   "id": "f0b74268",
   "metadata": {},
   "source": [
    "ofmkmsdlkfvm"
   ]
  },
  {
   "cell_type": "markdown",
   "id": "e033bdf4",
   "metadata": {},
   "source": [
    "erfkmwlef"
   ]
  },
  {
   "cell_type": "code",
   "execution_count": null,
   "id": "9f5f1b7a",
   "metadata": {},
   "outputs": [],
   "source": [
    "wedqwedqedw"
   ]
  },
  {
   "cell_type": "markdown",
   "id": "57982cf3",
   "metadata": {},
   "source": [
    "## Regresión 2"
   ]
  },
  {
   "cell_type": "markdown",
   "id": "91bbecb0",
   "metadata": {},
   "source": [
    "eiucheiucnjewjcn"
   ]
  }
 ],
 "metadata": {
  "colab": {
   "provenance": []
  },
  "kernelspec": {
   "display_name": "base",
   "language": "python",
   "name": "python3"
  },
  "language_info": {
   "codemirror_mode": {
    "name": "ipython",
    "version": 3
   },
   "file_extension": ".py",
   "mimetype": "text/x-python",
   "name": "python",
   "nbconvert_exporter": "python",
   "pygments_lexer": "ipython3",
   "version": "3.12.4"
  }
 },
 "nbformat": 4,
 "nbformat_minor": 5
}
